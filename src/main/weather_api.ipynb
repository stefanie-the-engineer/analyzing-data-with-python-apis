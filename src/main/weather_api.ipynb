# Setup
# Dependencies and Setup
import matplotlib.pyplot as plt
import pandas as pd
import numpy as np
import requests
import time

# Import API key
from api_keys import api_key

# Incorporated citipy to determine city based on latitude and longitude
from citipy import citipy

# Output File (CSV)
output_data_file = "output_data/cities.csv"

# Range of latitudes and longitudes
lat_range = (-90, 90)
lng_range = (-180, 180)

# Generate Cities List 
# List for holding lat_lngs and cities
lat_lngs = []
cities = []

# Create a set of random lat and lng combinations
lats = np.random.uniform(low=-90.000, high=90.000, size=1500)
lngs = np.random.uniform(low=-180.000, high=180.000, size=1500)
lat_lngs = zip(lats, lngs)

# Identify nearest city for each lat, lng combination
for lat_lng in lat_lngs:
    city = citipy.nearest_city(lat_lng[0], lat_lng[1]).city_name
    
    # If the city is unique, then add it to a our cities list
    if city not in cities:
        cities.append(city)

# Print the city count to confirm sufficient count
len(cities)

# Perform API calls

# Variable declarations
index = 0
results = ""

# Base URL
base_url = "http://api.openweathermap.org/data/2.5/weather?"

# Beginning print statements starting printed list
print(f"Beginning Data Retrieval")
print(f"---------------------------------------------------")

# Iterate through cities list
for city in cities:

    # Query URL
    query_url = base_url + "appid=" + api_key + "&q=" + city
    
    # Assemble URL and make API request
    response = requests.get(query_url).json()
    
    try:
        print(f"Processing Record {index} | {city}.")      
    except (KeyError, IndexError):
        print("City not found. Skipping...")
        
    index = index + 1

# End print statement
print(f"---------------------------------------------------")