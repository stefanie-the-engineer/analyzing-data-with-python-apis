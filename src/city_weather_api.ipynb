# Setup
# Dependencies and Setup
import matplotlib.pyplot as plt
import pandas as pd
import numpy as np
import requests
import time
import os

# Import API key
from config import api_key

# Incorporated citipy to determine city based on latitude and longitude
from citipy import citipy

# Create the output directories for the CSV holding the weather data and the TXT file to list all of the API calls
weather_output_data_path = os.path.join("../../Output/weather/cities.csv")
city_api_data_path = os.path.join("../../Output/api/api_calls.txt")

# Create output file to write TXT file
city_api_data_file = open(city_api_data_path, "w")

# Range of latitudes and longitudes
lat_range = (-90, 90)
lng_range = (-180, 180)

# Generate cities list
# List for holding lat_lngs and cities
lat_lngs = []
cities = []

# Create a set of random lat and lng combinations
lats = np.random.uniform(low = -90.000, high = 90.000, size = 1500)
lngs = np.random.uniform(low = -180.000, high = 180.000, size = 1500)
lat_lngs = zip(lats, lngs)

# Identify nearest city for each lat, lng combination
for lat_lng in lat_lngs:
    city = citipy.nearest_city(lat_lng[0], lat_lng[1]).city_name
    
    # If the city is unique, then add it to a our cities list
    if city not in cities:
        cities.append(city)

# Print the city count to confirm sufficient count
len(cities)

# Perform API calls
# Create Data Frame from cities list
cities_df = pd.DataFrame(cities)
cities_df = cities_df.rename(columns = { cities_df.columns[0]: "City" })

# Set up lists to store city and inforamtion data
city_list = []
countries = []
lats = []
lngs = []
dates = []
max_temps = []
humidities = []
clouds = []
wind_speeds = []

# Base URL
base_url = "http://api.openweathermap.org/data/2.5/weather?"

# Beginning print statements starting printed list (printed to text file)
city_api_data_file.write("Beginning Data Retrieval\n")
city_api_data_file.write("---------------------------------------------------\n")

# Iterate through "Cities" in Data Frame
for index, row in cities_df.iterrows():

    # Get city name from "City" Data Frame
    city_name = row["City"]
   
    try:
        # Prints statement if found
        city_api_data_file.write("Retrieving city and weather information with index " + str(index) + " and city name " + city_name + ".\n")
        
        # Assemble URL and make API request
        city_json = requests.get(base_url + "appid=" + api_key + "&q=" + city_name).json()
        
        # Parse through JSON
        city_list.append(city_json["name"])
        countries.append(city_json["sys"]["country"])
        lats.append(city_json["coord"]["lat"])
        lngs.append(city_json["coord"]["lon"])
        dates.append(city_json["dt"])
        max_temps.append(city_json["main"]["temp_max"])
        humidities.append(city_json["main"]["humidity"])
        clouds.append(city_json["clouds"]["all"])
        wind_speeds.append(city_json["wind"]["speed"])
    except (KeyError, IndexError):
        # Prints statement if not found
        city_api_data_file.write("Missing field or result... skipping.\n")
              
# End print statement
city_api_data_file.write("---------------------------------------------------")

# Convert raw data to Data Frame with city and weather information
weather_dictionary = {
    "City": city_list,
    "Country": countries,
    "Lat": lats,
    "Lng": lngs,
    "Date": dates,
    "Max Temp": max_temps,
    "Humidity": humidities,
    "Cloudiness": clouds,
    "Wind Speed": wind_speeds
}

# Creates Weather Data Frame
weather_df = pd.DataFrame(weather_dictionary)
weather_df

# Export Data Frame to CSV file
weather_df.to_csv(weather_output_data_path)

# Plotting the Data with Scatter Plots
# Latitude vs Max Temperature
plt.scatter(weather_df["Lat"], weather_df["Max Temp"], marker = "o")

# Incorporate the other graph properties
plt.title("City Latitude vs Max Temperature")
plt.ylabel("Max Temperature (F)")
plt.xlabel("Latitude")
plt.grid(True)

# Save the figure
plt.savefig("../../Images/Latitude_Max_Temperature_Relationship.png")

# Show plot
plt.show()

# Latitude vs Humidity
plt.scatter(weather_df["Lat"], weather_df["Humidity"], marker = "o")

# Incorporate the other graph properties
plt.title("City Latitude vs Humidity")
plt.ylabel("Humidity (%)")
plt.xlabel("Latitude")
plt.grid(True)

# Save the figure
plt.savefig("../../Images/Latitude_Humidity_Relationship.png")

# Show plot
plt.show()

# Latitude vs Cloudiness
plt.scatter(weather_df["Lat"], weather_df["Cloudiness"], marker = "o")

# Incorporate the other graph properties
plt.title("City Latitude vs Cloudiness")
plt.ylabel("Cloudiness (%)")
plt.xlabel("Latitude")
plt.grid(True)

# Save the figure
plt.savefig("../../Images/Latitude_Cloudiness_Relationship.png")

# Show plot
plt.show()

# Latitude vs Wind Speed
plt.scatter(weather_df["Lat"], weather_df["Wind Speed"], marker = "o")

# Incorporate the other graph properties
plt.title("City Latitude vs Wind Speed")
plt.ylabel("Wind Speed (mph)")
plt.xlabel("Latitude")
plt.grid(True)

# Save the figure
plt.savefig("../../Images/Latitude_Wind_Speed_Relationship.png")

# Show plot
plt.show()